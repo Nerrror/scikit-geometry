{
 "cells": [
  {
   "cell_type": "code",
   "execution_count": 1,
   "metadata": {},
   "outputs": [],
   "source": [
    "import skgeom as sg\n",
    "import numpy as np\n"
   ]
  },
  {
   "cell_type": "code",
   "execution_count": 3,
   "metadata": {},
   "outputs": [],
   "source": [
    "v = np.array([\n",
    "    sg.Point3(0.,0.,0.), \n",
    "    sg.Point3(1.,1.,0.), \n",
    "    sg.Point3(0.,1.,0.), \n",
    "    sg.Point3(0.,0.,1.)\n",
    "])\n",
    "f = np.array([[0,2,1], [0,1,3], [1,2,3], [2,0,3]], dtype=int)\n"
   ]
  },
  {
   "cell_type": "code",
   "execution_count": 4,
   "metadata": {},
   "outputs": [],
   "source": [
    "P = sg.polyhedron_from_vertices_and_vertex_indices(v, f)"
   ]
  },
  {
   "cell_type": "code",
   "execution_count": 12,
   "metadata": {},
   "outputs": [
    {
     "ename": "AttributeError",
     "evalue": "'skgeom._skgeom.Polyhedron3' object has no attribute 'draw'",
     "output_type": "error",
     "traceback": [
      "\u001b[1;31m---------------------------------------------------------------------------\u001b[0m",
      "\u001b[1;31mAttributeError\u001b[0m                            Traceback (most recent call last)",
      "Cell \u001b[1;32mIn[12], line 1\u001b[0m\n\u001b[1;32m----> 1\u001b[0m P\u001b[39m.\u001b[39;49mdraw()\n",
      "\u001b[1;31mAttributeError\u001b[0m: 'skgeom._skgeom.Polyhedron3' object has no attribute 'draw'"
     ]
    }
   ],
   "source": []
  },
  {
   "cell_type": "code",
   "execution_count": 18,
   "metadata": {},
   "outputs": [
    {
     "ename": "TypeError",
     "evalue": "__init__(): incompatible constructor arguments. The following argument types are supported:\n    1. skgeom._skgeom.Polyhedron3()\n    2. skgeom._skgeom.Polyhedron3(arg0: skgeom._skgeom.Polyhedron3)\n\nInvoked with: [PointC3(0, 0, 0), PointC3(1, 1, 0), PointC3(0, 1, 0)]",
     "output_type": "error",
     "traceback": [
      "\u001b[1;31m---------------------------------------------------------------------------\u001b[0m",
      "\u001b[1;31mTypeError\u001b[0m                                 Traceback (most recent call last)",
      "Cell \u001b[1;32mIn[18], line 1\u001b[0m\n\u001b[1;32m----> 1\u001b[0m p3 \u001b[39m=\u001b[39m sg\u001b[39m.\u001b[39;49mPolyhedron3([sg\u001b[39m.\u001b[39;49mPoint3(\u001b[39m*\u001b[39;49mv[\u001b[39m0\u001b[39;49m]), sg\u001b[39m.\u001b[39;49mPoint3(\u001b[39m*\u001b[39;49mv[\u001b[39m1\u001b[39;49m]), sg\u001b[39m.\u001b[39;49mPoint3(\u001b[39m*\u001b[39;49mv[\u001b[39m2\u001b[39;49m])])\n",
      "\u001b[1;31mTypeError\u001b[0m: __init__(): incompatible constructor arguments. The following argument types are supported:\n    1. skgeom._skgeom.Polyhedron3()\n    2. skgeom._skgeom.Polyhedron3(arg0: skgeom._skgeom.Polyhedron3)\n\nInvoked with: [PointC3(0, 0, 0), PointC3(1, 1, 0), PointC3(0, 1, 0)]"
     ]
    }
   ],
   "source": [
    "p3 = sg.Polyhedron3([sg.Point3(*v[0]), sg.Point3(*v[1]), sg.Point3(*v[2])])"
   ]
  },
  {
   "cell_type": "code",
   "execution_count": 19,
   "metadata": {},
   "outputs": [
    {
     "name": "stdout",
     "output_type": "stream",
     "text": [
      "Help on method add_vertex_and_facet_to_border in module skgeom._skgeom:\n",
      "\n",
      "add_vertex_and_facet_to_border(...) method of skgeom._skgeom.Polyhedron3 instance\n",
      "    add_vertex_and_facet_to_border(self: skgeom._skgeom.Polyhedron3, arg0: skgeom._skgeom.PolyhedronHalfedge, arg1: skgeom._skgeom.PolyhedronHalfedge) -> skgeom._skgeom.PolyhedronHalfedge\n",
      "    \n",
      "    P.add_vertex_and_facet_to_border( self ,Halfedge h,Halfedge g) -> Halfedge\n",
      "    creates a new facet within the hole incident to h and g by connecting the \n",
      "    tip of g with the tip of h with two new halfedges and a new vertex and filling\n",
      "    this separated part of the hole with a new facet, such that the new facet is\n",
      "    incident to g. Returns the halfedge of the new edge that is incident to the\n",
      "    new facet and the new vertex.\n",
      "    Precondition: h.is_border(), g.is_border(), h != g, and g can be reached \n",
      "    along the same hole starting with h.\n",
      "\n"
     ]
    }
   ],
   "source": [
    "help(p3.add_vertex_and_facet_to_border)"
   ]
  },
  {
   "cell_type": "code",
   "execution_count": null,
   "metadata": {},
   "outputs": [],
   "source": []
  }
 ],
 "metadata": {
  "kernelspec": {
   "display_name": "nbase",
   "language": "python",
   "name": "python3"
  },
  "language_info": {
   "codemirror_mode": {
    "name": "ipython",
    "version": 3
   },
   "file_extension": ".py",
   "mimetype": "text/x-python",
   "name": "python",
   "nbconvert_exporter": "python",
   "pygments_lexer": "ipython3",
   "version": "3.10.12"
  },
  "orig_nbformat": 4
 },
 "nbformat": 4,
 "nbformat_minor": 2
}
